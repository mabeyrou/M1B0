{
 "cells": [
  {
   "cell_type": "code",
   "execution_count": 4,
   "id": "42a81e58",
   "metadata": {},
   "outputs": [],
   "source": [
    "import pandas as pd"
   ]
  },
  {
   "cell_type": "code",
   "execution_count": 5,
   "id": "ee09344e",
   "metadata": {},
   "outputs": [
    {
     "data": {
      "text/html": [
       "<div>\n",
       "<style scoped>\n",
       "    .dataframe tbody tr th:only-of-type {\n",
       "        vertical-align: middle;\n",
       "    }\n",
       "\n",
       "    .dataframe tbody tr th {\n",
       "        vertical-align: top;\n",
       "    }\n",
       "\n",
       "    .dataframe thead th {\n",
       "        text-align: right;\n",
       "    }\n",
       "</style>\n",
       "<table border=\"1\" class=\"dataframe\">\n",
       "  <thead>\n",
       "    <tr style=\"text-align: right;\">\n",
       "      <th></th>\n",
       "      <th>nom</th>\n",
       "      <th>prenom</th>\n",
       "      <th>age</th>\n",
       "      <th>taille</th>\n",
       "      <th>poids</th>\n",
       "      <th>sexe</th>\n",
       "      <th>sport_licence</th>\n",
       "      <th>niveau_etude</th>\n",
       "      <th>region</th>\n",
       "      <th>smoker</th>\n",
       "      <th>nationalité_francaise</th>\n",
       "      <th>revenu_estime_mois</th>\n",
       "      <th>montant_pret</th>\n",
       "    </tr>\n",
       "  </thead>\n",
       "  <tbody>\n",
       "    <tr>\n",
       "      <th>0</th>\n",
       "      <td>Marie</td>\n",
       "      <td>Zoé</td>\n",
       "      <td>57</td>\n",
       "      <td>161.7</td>\n",
       "      <td>56.3</td>\n",
       "      <td>F</td>\n",
       "      <td>oui</td>\n",
       "      <td>bac+2</td>\n",
       "      <td>Normandie</td>\n",
       "      <td>non</td>\n",
       "      <td>non</td>\n",
       "      <td>1369</td>\n",
       "      <td>500.000000</td>\n",
       "    </tr>\n",
       "    <tr>\n",
       "      <th>1</th>\n",
       "      <td>Chauvet</td>\n",
       "      <td>Margot</td>\n",
       "      <td>57</td>\n",
       "      <td>173.0</td>\n",
       "      <td>61.9</td>\n",
       "      <td>H</td>\n",
       "      <td>oui</td>\n",
       "      <td>bac+2</td>\n",
       "      <td>Occitanie</td>\n",
       "      <td>non</td>\n",
       "      <td>oui</td>\n",
       "      <td>1842</td>\n",
       "      <td>12439.293590</td>\n",
       "    </tr>\n",
       "    <tr>\n",
       "      <th>2</th>\n",
       "      <td>Rousseau</td>\n",
       "      <td>Arthur</td>\n",
       "      <td>41</td>\n",
       "      <td>159.9</td>\n",
       "      <td>63.5</td>\n",
       "      <td>H</td>\n",
       "      <td>oui</td>\n",
       "      <td>bac</td>\n",
       "      <td>Bretagne</td>\n",
       "      <td>non</td>\n",
       "      <td>oui</td>\n",
       "      <td>3868</td>\n",
       "      <td>22954.672871</td>\n",
       "    </tr>\n",
       "    <tr>\n",
       "      <th>3</th>\n",
       "      <td>Mendès</td>\n",
       "      <td>Margaret</td>\n",
       "      <td>41</td>\n",
       "      <td>174.4</td>\n",
       "      <td>63.1</td>\n",
       "      <td>H</td>\n",
       "      <td>oui</td>\n",
       "      <td>bac+2</td>\n",
       "      <td>Normandie</td>\n",
       "      <td>non</td>\n",
       "      <td>oui</td>\n",
       "      <td>1495</td>\n",
       "      <td>11067.617423</td>\n",
       "    </tr>\n",
       "    <tr>\n",
       "      <th>4</th>\n",
       "      <td>Bertrand</td>\n",
       "      <td>Dominique</td>\n",
       "      <td>47</td>\n",
       "      <td>172.2</td>\n",
       "      <td>67.0</td>\n",
       "      <td>H</td>\n",
       "      <td>oui</td>\n",
       "      <td>master</td>\n",
       "      <td>Normandie</td>\n",
       "      <td>non</td>\n",
       "      <td>oui</td>\n",
       "      <td>3074</td>\n",
       "      <td>36525.375016</td>\n",
       "    </tr>\n",
       "  </tbody>\n",
       "</table>\n",
       "</div>"
      ],
      "text/plain": [
       "        nom     prenom  age  taille  poids sexe sport_licence niveau_etude  \\\n",
       "0     Marie        Zoé   57   161.7   56.3    F           oui        bac+2   \n",
       "1   Chauvet     Margot   57   173.0   61.9    H           oui        bac+2   \n",
       "2  Rousseau     Arthur   41   159.9   63.5    H           oui          bac   \n",
       "3    Mendès   Margaret   41   174.4   63.1    H           oui        bac+2   \n",
       "4  Bertrand  Dominique   47   172.2   67.0    H           oui       master   \n",
       "\n",
       "      region smoker nationalité_francaise  revenu_estime_mois  montant_pret  \n",
       "0  Normandie    non                   non                1369    500.000000  \n",
       "1  Occitanie    non                   oui                1842  12439.293590  \n",
       "2   Bretagne    non                   oui                3868  22954.672871  \n",
       "3  Normandie    non                   oui                1495  11067.617423  \n",
       "4  Normandie    non                   oui                3074  36525.375016  "
      ]
     },
     "execution_count": 5,
     "metadata": {},
     "output_type": "execute_result"
    }
   ],
   "source": [
    "df_old = pd.read_csv('data/df_old.csv')\n",
    "df_new = pd.read_csv('data/df_new.csv')\n",
    "df = pd.concat([df_old, df_new])\n",
    "df.head()"
   ]
  },
  {
   "cell_type": "code",
   "execution_count": 6,
   "id": "a12c3105",
   "metadata": {},
   "outputs": [
    {
     "data": {
      "text/plain": [
       "array(['bac+2', 'bac', 'master', 'doctorat', 'aucun'], dtype=object)"
      ]
     },
     "execution_count": 6,
     "metadata": {},
     "output_type": "execute_result"
    }
   ],
   "source": [
    "df['niveau_etude'].unique()"
   ]
  },
  {
   "cell_type": "code",
   "execution_count": 7,
   "id": "39426b08",
   "metadata": {},
   "outputs": [
    {
     "data": {
      "text/plain": [
       "array(['Normandie', 'Occitanie', 'Bretagne', 'Hauts-de-France', 'Corse',\n",
       "       'Auvergne-Rhône-Alpes', 'Île-de-France',\n",
       "       'Provence-Alpes-Côte d’Azur'], dtype=object)"
      ]
     },
     "execution_count": 7,
     "metadata": {},
     "output_type": "execute_result"
    }
   ],
   "source": [
    "df['region'].unique()"
   ]
  }
 ],
 "metadata": {
  "kernelspec": {
   "display_name": ".venv",
   "language": "python",
   "name": "python3"
  },
  "language_info": {
   "codemirror_mode": {
    "name": "ipython",
    "version": 3
   },
   "file_extension": ".py",
   "mimetype": "text/x-python",
   "name": "python",
   "nbconvert_exporter": "python",
   "pygments_lexer": "ipython3",
   "version": "3.10.17"
  }
 },
 "nbformat": 4,
 "nbformat_minor": 5
}
